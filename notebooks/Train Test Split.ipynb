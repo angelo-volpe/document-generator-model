{
 "cells": [
  {
   "cell_type": "markdown",
   "id": "424087f1-dd8e-4222-bf85-cfa9ea2a04d8",
   "metadata": {},
   "source": [
    "### Prepare Train and Validation Sets"
   ]
  },
  {
   "cell_type": "code",
   "execution_count": 1,
   "id": "e6782f09-a139-4915-be8b-25c39360127f",
   "metadata": {},
   "outputs": [],
   "source": [
    "import os\n",
    "import pandas as pd\n",
    "import shutil\n",
    "from pathlib import Path\n",
    "from PIL import Image"
   ]
  },
  {
   "cell_type": "code",
   "execution_count": 2,
   "id": "0ef3d82b-e213-40bb-82db-b68caffe5080",
   "metadata": {},
   "outputs": [],
   "source": [
    "def denormalise_box_coordinates(start_x_norm, start_y_norm, end_x_norm, end_y_norm, doc_width, doc_height):\n",
    "    start_x = int(start_x_norm * doc_width)\n",
    "    end_x = int(end_x_norm * doc_width)\n",
    "    start_y = int(start_y_norm * doc_height)\n",
    "    end_y = int(end_y_norm * doc_height)\n",
    "    \n",
    "    return start_x, start_y, end_x, end_y\n",
    "\n",
    "def get_box_coords(start_x, start_y, end_x, end_y):\n",
    "    return [[start_x, start_y], [end_x, start_y], [end_x, end_x], [start_x, end_x]]"
   ]
  },
  {
   "cell_type": "markdown",
   "id": "1b0d4665-2f02-4030-b105-dc5747673dfb",
   "metadata": {},
   "source": [
    "### Read Samples and Labels"
   ]
  },
  {
   "cell_type": "code",
   "execution_count": 8,
   "id": "f21c650d-98a6-4a03-99f1-adf4e9ae35fe",
   "metadata": {},
   "outputs": [],
   "source": [
    "document_id = 5\n",
    "train_test_split = 0.7"
   ]
  },
  {
   "cell_type": "code",
   "execution_count": 9,
   "id": "2a40eec0-8ba8-4ade-9ca0-31882216334a",
   "metadata": {},
   "outputs": [],
   "source": [
    "sample_path = Path(f\"../data/samples/document_{document_id}/images\")\n",
    "labels_path = Path(f\"../data/samples/document_{document_id}/labels.csv\")"
   ]
  },
  {
   "cell_type": "code",
   "execution_count": 10,
   "id": "abf08f7b-c8ce-4410-8ed6-4dbf93cd7236",
   "metadata": {},
   "outputs": [],
   "source": [
    "fine_tuning_dataset_path = Path(f\"../data/fine_tuning/document_{document_id}\")"
   ]
  },
  {
   "cell_type": "code",
   "execution_count": 11,
   "id": "72469512-5be6-423e-9255-f9e249b415bb",
   "metadata": {},
   "outputs": [],
   "source": [
    "samples = os.listdir(sample_path)"
   ]
  },
  {
   "cell_type": "code",
   "execution_count": 12,
   "id": "190bebd3-8b69-40d6-8a57-f967db600a98",
   "metadata": {},
   "outputs": [
    {
     "data": {
      "text/plain": [
       "10"
      ]
     },
     "execution_count": 12,
     "metadata": {},
     "output_type": "execute_result"
    }
   ],
   "source": [
    "num_samples = len(samples)\n",
    "num_samples"
   ]
  },
  {
   "cell_type": "markdown",
   "id": "dd604b12-c3ba-4755-9dab-8ab2501fd51f",
   "metadata": {},
   "source": [
    "### Split Train and Test"
   ]
  },
  {
   "cell_type": "code",
   "execution_count": 13,
   "id": "70c5c91a-788e-444e-ad68-f775af44950b",
   "metadata": {},
   "outputs": [
    {
     "data": {
      "text/plain": [
       "(7, 3)"
      ]
     },
     "execution_count": 13,
     "metadata": {},
     "output_type": "execute_result"
    }
   ],
   "source": [
    "split = int(num_samples * train_test_split)\n",
    "sample_id_list = list(map(lambda x: int(x.split(\".\")[0].split(\"_\")[-1]), samples))\n",
    "train_samples = sample_id_list[:split]\n",
    "val_samples = sample_id_list[split:]\n",
    "\n",
    "len(train_samples), len(val_samples)"
   ]
  },
  {
   "cell_type": "code",
   "execution_count": 14,
   "id": "888c75ae-58d4-4a1b-80d3-1e0a7ba7eccb",
   "metadata": {},
   "outputs": [],
   "source": [
    "labels = pd.read_csv(labels_path)"
   ]
  },
  {
   "cell_type": "code",
   "execution_count": 15,
   "id": "1ca73629-8f14-49e7-8a23-4e49712461c8",
   "metadata": {},
   "outputs": [
    {
     "data": {
      "text/html": [
       "<div>\n",
       "<style scoped>\n",
       "    .dataframe tbody tr th:only-of-type {\n",
       "        vertical-align: middle;\n",
       "    }\n",
       "\n",
       "    .dataframe tbody tr th {\n",
       "        vertical-align: top;\n",
       "    }\n",
       "\n",
       "    .dataframe thead th {\n",
       "        text-align: right;\n",
       "    }\n",
       "</style>\n",
       "<table border=\"1\" class=\"dataframe\">\n",
       "  <thead>\n",
       "    <tr style=\"text-align: right;\">\n",
       "      <th></th>\n",
       "      <th>id</th>\n",
       "      <th>name</th>\n",
       "      <th>label</th>\n",
       "      <th>start_x_norm</th>\n",
       "      <th>start_y_norm</th>\n",
       "      <th>end_x_norm</th>\n",
       "      <th>end_y_norm</th>\n",
       "      <th>sample_document</th>\n",
       "      <th>template_box</th>\n",
       "    </tr>\n",
       "  </thead>\n",
       "  <tbody>\n",
       "    <tr>\n",
       "      <th>0</th>\n",
       "      <td>28</td>\n",
       "      <td>cognome</td>\n",
       "      <td>NZAEXZ</td>\n",
       "      <td>0.081159</td>\n",
       "      <td>0.165049</td>\n",
       "      <td>0.239130</td>\n",
       "      <td>0.184466</td>\n",
       "      <td>113</td>\n",
       "      <td>18</td>\n",
       "    </tr>\n",
       "    <tr>\n",
       "      <th>1</th>\n",
       "      <td>29</td>\n",
       "      <td>cognome_b</td>\n",
       "      <td>WYLHGZXXYX</td>\n",
       "      <td>0.728986</td>\n",
       "      <td>0.165049</td>\n",
       "      <td>0.942029</td>\n",
       "      <td>0.183495</td>\n",
       "      <td>113</td>\n",
       "      <td>19</td>\n",
       "    </tr>\n",
       "    <tr>\n",
       "      <th>2</th>\n",
       "      <td>30</td>\n",
       "      <td>cognome</td>\n",
       "      <td>VNY</td>\n",
       "      <td>0.081159</td>\n",
       "      <td>0.165049</td>\n",
       "      <td>0.146377</td>\n",
       "      <td>0.184466</td>\n",
       "      <td>114</td>\n",
       "      <td>18</td>\n",
       "    </tr>\n",
       "    <tr>\n",
       "      <th>3</th>\n",
       "      <td>31</td>\n",
       "      <td>cognome_b</td>\n",
       "      <td>DJJIWZHCFQP</td>\n",
       "      <td>0.728986</td>\n",
       "      <td>0.165049</td>\n",
       "      <td>0.976812</td>\n",
       "      <td>0.182524</td>\n",
       "      <td>114</td>\n",
       "      <td>19</td>\n",
       "    </tr>\n",
       "    <tr>\n",
       "      <th>4</th>\n",
       "      <td>32</td>\n",
       "      <td>cognome</td>\n",
       "      <td>DVUOM</td>\n",
       "      <td>0.081159</td>\n",
       "      <td>0.165049</td>\n",
       "      <td>0.198551</td>\n",
       "      <td>0.184466</td>\n",
       "      <td>115</td>\n",
       "      <td>18</td>\n",
       "    </tr>\n",
       "  </tbody>\n",
       "</table>\n",
       "</div>"
      ],
      "text/plain": [
       "   id       name        label  start_x_norm  start_y_norm  end_x_norm  \\\n",
       "0  28    cognome       NZAEXZ      0.081159      0.165049    0.239130   \n",
       "1  29  cognome_b   WYLHGZXXYX      0.728986      0.165049    0.942029   \n",
       "2  30    cognome          VNY      0.081159      0.165049    0.146377   \n",
       "3  31  cognome_b  DJJIWZHCFQP      0.728986      0.165049    0.976812   \n",
       "4  32    cognome        DVUOM      0.081159      0.165049    0.198551   \n",
       "\n",
       "   end_y_norm  sample_document  template_box  \n",
       "0    0.184466              113            18  \n",
       "1    0.183495              113            19  \n",
       "2    0.184466              114            18  \n",
       "3    0.182524              114            19  \n",
       "4    0.184466              115            18  "
      ]
     },
     "execution_count": 15,
     "metadata": {},
     "output_type": "execute_result"
    }
   ],
   "source": [
    "labels.head()"
   ]
  },
  {
   "cell_type": "code",
   "execution_count": 16,
   "id": "a56c3158-4534-4622-b149-05e67946a823",
   "metadata": {},
   "outputs": [
    {
     "data": {
      "text/plain": [
       "(20, 10)"
      ]
     },
     "execution_count": 16,
     "metadata": {},
     "output_type": "execute_result"
    }
   ],
   "source": [
    "len(labels), labels.sample_document.nunique()"
   ]
  },
  {
   "cell_type": "code",
   "execution_count": 17,
   "id": "4bb844c4-f303-4db2-85d0-8f37ef3edd55",
   "metadata": {},
   "outputs": [],
   "source": [
    "image = Image.open(sample_path / samples[0])\n",
    "image_width = image.width\n",
    "image_height = image.height"
   ]
  },
  {
   "cell_type": "markdown",
   "id": "6a05581e-a493-4125-85b9-9bf3eaa86a33",
   "metadata": {},
   "source": [
    "### Copy images"
   ]
  },
  {
   "cell_type": "code",
   "execution_count": 18,
   "id": "10230b34-b9ef-4145-b436-fa4c3cb76257",
   "metadata": {},
   "outputs": [],
   "source": [
    "for sample_id in train_samples:\n",
    "    src = sample_path / f\"sample_{sample_id}.png\"\n",
    "    dst = fine_tuning_dataset_path / \"train_images/\"\n",
    "    dst.mkdir(parents=True, exist_ok=True)\n",
    "    shutil.copyfile(src, dst / f\"sample_{sample_id}.png\")\n",
    "\n",
    "for sample_id in val_samples:\n",
    "    src = sample_path / f\"sample_{sample_id}.png\"\n",
    "    dst = fine_tuning_dataset_path / \"val_images/\"\n",
    "    dst.mkdir(parents=True, exist_ok=True)\n",
    "    shutil.copyfile(src, dst / f\"sample_{sample_id}.png\")"
   ]
  },
  {
   "cell_type": "markdown",
   "id": "bd6aa68d-8adc-4270-99bd-96e3805ab723",
   "metadata": {},
   "source": [
    "### Write labels"
   ]
  },
  {
   "cell_type": "code",
   "execution_count": 26,
   "id": "c4875fa5-d0fb-4292-92b7-6726d0d9bb7d",
   "metadata": {},
   "outputs": [],
   "source": [
    "train_annotations = []\n",
    "validation_annotations = []\n",
    "\n",
    "for sample_id in train_samples:\n",
    "    sample_labels = labels[labels[\"sample_document\"] == sample_id]\n",
    "    boxes_annotation = sample_labels.apply(lambda x: \n",
    "                                           {\"transcription\": x[\"label\"], \n",
    "                                            \"points\": get_box_coords(*denormalise_box_coordinates(x[\"start_x_norm\"], x[\"start_y_norm\"], \n",
    "                                                                                                  x[\"end_x_norm\"], x[\"end_y_norm\"], \n",
    "                                                                                                  image_width, image_height))}\n",
    "                    , axis=1).values\n",
    "\n",
    "    boxes_annotation = \" \".join(map(lambda x: str(x), boxes_annotation))\n",
    "    image_annotation = \"\\t\".join([str(fine_tuning_dataset_path / f\"train/sample_{sample_id}.png\"), boxes_annotation])\n",
    "    train_annotations.append(image_annotation)\n",
    "\n",
    "for sample_id in val_samples:\n",
    "    sample_labels = labels[labels[\"sample_document\"] == sample_id]\n",
    "    boxes_annotation = sample_labels.apply(lambda x: \n",
    "                                           {\"transcription\": x[\"label\"], \n",
    "                                            \"points\": get_box_coords(*denormalise_box_coordinates(x[\"start_x_norm\"], x[\"start_y_norm\"], \n",
    "                                                                                                  x[\"end_x_norm\"], x[\"end_y_norm\"], \n",
    "                                                                                                  image_width, image_height))}\n",
    "                    , axis=1).values\n",
    "\n",
    "    boxes_annotation = \" \".join(map(lambda x: str(x), boxes_annotation))\n",
    "    image_annotation = \"\\t\".join([str(fine_tuning_dataset_path / f\"train/sample_{sample_id}.png\"), boxes_annotation])\n",
    "    validation_annotations.append(image_annotation)\n",
    "\n",
    "train_annotations = \"\\n\".join(train_annotations)\n",
    "validation_annotations = \"\\n\".join(validation_annotations)"
   ]
  },
  {
   "cell_type": "code",
   "execution_count": 27,
   "id": "c3231edf-b14e-4ab5-8189-9737b819d3fc",
   "metadata": {},
   "outputs": [],
   "source": [
    "### Write annotations\n",
    "fine_tuning_dataset_path.mkdir(parents=True, exist_ok=True)\n",
    "\n",
    "with open(fine_tuning_dataset_path / 'train_labels.txt', \"w\") as file:\n",
    "    file.write(train_annotations)\n",
    "\n",
    "with open(fine_tuning_dataset_path / 'val_labels.txt', \"w\") as file:\n",
    "    file.write(validation_annotations)"
   ]
  },
  {
   "cell_type": "code",
   "execution_count": null,
   "id": "33b4438d-2585-4524-b4b7-83c03a1bbe37",
   "metadata": {},
   "outputs": [],
   "source": []
  }
 ],
 "metadata": {
  "kernelspec": {
   "display_name": "Python 3 (ipykernel)",
   "language": "python",
   "name": "python3"
  },
  "language_info": {
   "codemirror_mode": {
    "name": "ipython",
    "version": 3
   },
   "file_extension": ".py",
   "mimetype": "text/x-python",
   "name": "python",
   "nbconvert_exporter": "python",
   "pygments_lexer": "ipython3",
   "version": "3.12.6"
  }
 },
 "nbformat": 4,
 "nbformat_minor": 5
}
