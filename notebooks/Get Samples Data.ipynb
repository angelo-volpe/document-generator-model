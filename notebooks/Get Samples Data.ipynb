{
 "cells": [
  {
   "cell_type": "code",
   "execution_count": 1,
   "id": "18e3e518-0b2c-4e06-924e-537c53069226",
   "metadata": {},
   "outputs": [],
   "source": [
    "import requests\n",
    "from pathlib import Path\n",
    "from PIL import Image\n",
    "from io import BytesIO\n",
    "import pandas as pd"
   ]
  },
  {
   "cell_type": "markdown",
   "id": "8d1070aa-ea69-4a4b-a913-3569106d1bb3",
   "metadata": {},
   "source": [
    "### Reading images and labels from API"
   ]
  },
  {
   "cell_type": "code",
   "execution_count": 2,
   "id": "abfb3f44-186e-4994-8d1c-5a6baed29f8b",
   "metadata": {},
   "outputs": [],
   "source": [
    "document_id = 5"
   ]
  },
  {
   "cell_type": "code",
   "execution_count": 3,
   "id": "25f7c93e-34b0-4ec7-8a2b-e65d84dfcad0",
   "metadata": {},
   "outputs": [],
   "source": [
    "get_samples_url = f\"http://localhost:8000/document_generator/api/documents/{document_id}/get_samples/\""
   ]
  },
  {
   "cell_type": "code",
   "execution_count": 4,
   "id": "0026a273-9bf1-4b59-9844-2a88685a04a6",
   "metadata": {},
   "outputs": [],
   "source": [
    "with requests.Session() as session:\n",
    "    res_samples = session.get(get_samples_url)\n",
    "\n",
    "if res_samples.status_code != 200:\n",
    "    raise ValueError(f\"cannot retrieve samples for document: {document_id}\")\n",
    "else:\n",
    "    samples = res_samples.json()"
   ]
  },
  {
   "cell_type": "code",
   "execution_count": 5,
   "id": "84edd79a-d317-4417-91a7-e4268ea016b4",
   "metadata": {},
   "outputs": [
    {
     "data": {
      "text/plain": [
       "10"
      ]
     },
     "execution_count": 5,
     "metadata": {},
     "output_type": "execute_result"
    }
   ],
   "source": [
    "len(samples)"
   ]
  },
  {
   "cell_type": "code",
   "execution_count": 6,
   "id": "f9d131eb-5cdc-475d-80fa-814047db6cfd",
   "metadata": {},
   "outputs": [],
   "source": [
    "all_boxes = []\n",
    "\n",
    "for sample in samples:\n",
    "    sample_id = sample[\"id\"]\n",
    "    get_sample_boxes_url = f\"http://localhost:8000/document_generator/api/sample_documents/{sample_id}/get_boxes/\"\n",
    "\n",
    "    with requests.Session() as session:\n",
    "        res_boxes = session.get(get_sample_boxes_url)\n",
    "    \n",
    "    if res_boxes.status_code != 200:\n",
    "        raise ValueError(f\"cannot retrieve boxes for sample: {sample_id}\")\n",
    "    else:\n",
    "        boxes = res_boxes.json()\n",
    "\n",
    "    all_boxes += boxes"
   ]
  },
  {
   "cell_type": "code",
   "execution_count": 8,
   "id": "8dd1be44-cf16-46ad-8059-cee68a25d5f0",
   "metadata": {},
   "outputs": [],
   "source": [
    "all_boxes_df = pd.DataFrame(all_boxes)"
   ]
  },
  {
   "cell_type": "code",
   "execution_count": 9,
   "id": "08f115c5-f23f-49e2-bfb9-212af971fee3",
   "metadata": {},
   "outputs": [
    {
     "data": {
      "text/plain": [
       "(20, 10)"
      ]
     },
     "execution_count": 9,
     "metadata": {},
     "output_type": "execute_result"
    }
   ],
   "source": [
    "len(all_boxes_df), all_boxes_df[\"sample_document\"].nunique()"
   ]
  },
  {
   "cell_type": "code",
   "execution_count": 10,
   "id": "32fde6a9-d106-4043-93cb-42ec7defab76",
   "metadata": {},
   "outputs": [
    {
     "data": {
      "text/html": [
       "<div>\n",
       "<style scoped>\n",
       "    .dataframe tbody tr th:only-of-type {\n",
       "        vertical-align: middle;\n",
       "    }\n",
       "\n",
       "    .dataframe tbody tr th {\n",
       "        vertical-align: top;\n",
       "    }\n",
       "\n",
       "    .dataframe thead th {\n",
       "        text-align: right;\n",
       "    }\n",
       "</style>\n",
       "<table border=\"1\" class=\"dataframe\">\n",
       "  <thead>\n",
       "    <tr style=\"text-align: right;\">\n",
       "      <th></th>\n",
       "      <th>id</th>\n",
       "      <th>name</th>\n",
       "      <th>label</th>\n",
       "      <th>start_x_norm</th>\n",
       "      <th>start_y_norm</th>\n",
       "      <th>end_x_norm</th>\n",
       "      <th>end_y_norm</th>\n",
       "      <th>sample_document</th>\n",
       "      <th>template_box</th>\n",
       "    </tr>\n",
       "  </thead>\n",
       "  <tbody>\n",
       "    <tr>\n",
       "      <th>0</th>\n",
       "      <td>28</td>\n",
       "      <td>cognome</td>\n",
       "      <td>NZAEXZ</td>\n",
       "      <td>0.081159</td>\n",
       "      <td>0.165049</td>\n",
       "      <td>0.239130</td>\n",
       "      <td>0.184466</td>\n",
       "      <td>113</td>\n",
       "      <td>18</td>\n",
       "    </tr>\n",
       "    <tr>\n",
       "      <th>1</th>\n",
       "      <td>29</td>\n",
       "      <td>cognome_b</td>\n",
       "      <td>WYLHGZXXYX</td>\n",
       "      <td>0.728986</td>\n",
       "      <td>0.165049</td>\n",
       "      <td>0.942029</td>\n",
       "      <td>0.183495</td>\n",
       "      <td>113</td>\n",
       "      <td>19</td>\n",
       "    </tr>\n",
       "    <tr>\n",
       "      <th>2</th>\n",
       "      <td>30</td>\n",
       "      <td>cognome</td>\n",
       "      <td>VNY</td>\n",
       "      <td>0.081159</td>\n",
       "      <td>0.165049</td>\n",
       "      <td>0.146377</td>\n",
       "      <td>0.184466</td>\n",
       "      <td>114</td>\n",
       "      <td>18</td>\n",
       "    </tr>\n",
       "    <tr>\n",
       "      <th>3</th>\n",
       "      <td>31</td>\n",
       "      <td>cognome_b</td>\n",
       "      <td>DJJIWZHCFQP</td>\n",
       "      <td>0.728986</td>\n",
       "      <td>0.165049</td>\n",
       "      <td>0.976812</td>\n",
       "      <td>0.182524</td>\n",
       "      <td>114</td>\n",
       "      <td>19</td>\n",
       "    </tr>\n",
       "    <tr>\n",
       "      <th>4</th>\n",
       "      <td>32</td>\n",
       "      <td>cognome</td>\n",
       "      <td>DVUOM</td>\n",
       "      <td>0.081159</td>\n",
       "      <td>0.165049</td>\n",
       "      <td>0.198551</td>\n",
       "      <td>0.184466</td>\n",
       "      <td>115</td>\n",
       "      <td>18</td>\n",
       "    </tr>\n",
       "  </tbody>\n",
       "</table>\n",
       "</div>"
      ],
      "text/plain": [
       "   id       name        label  start_x_norm  start_y_norm  end_x_norm  \\\n",
       "0  28    cognome       NZAEXZ      0.081159      0.165049    0.239130   \n",
       "1  29  cognome_b   WYLHGZXXYX      0.728986      0.165049    0.942029   \n",
       "2  30    cognome          VNY      0.081159      0.165049    0.146377   \n",
       "3  31  cognome_b  DJJIWZHCFQP      0.728986      0.165049    0.976812   \n",
       "4  32    cognome        DVUOM      0.081159      0.165049    0.198551   \n",
       "\n",
       "   end_y_norm  sample_document  template_box  \n",
       "0    0.184466              113            18  \n",
       "1    0.183495              113            19  \n",
       "2    0.184466              114            18  \n",
       "3    0.182524              114            19  \n",
       "4    0.184466              115            18  "
      ]
     },
     "execution_count": 10,
     "metadata": {},
     "output_type": "execute_result"
    }
   ],
   "source": [
    "all_boxes_df.head()"
   ]
  },
  {
   "cell_type": "markdown",
   "id": "546c6125-d845-4182-96b6-9ea69627ac33",
   "metadata": {},
   "source": [
    "### Saving images and Labels"
   ]
  },
  {
   "cell_type": "code",
   "execution_count": 25,
   "id": "c4fb1b25-61f0-4f48-80db-ba69b883224f",
   "metadata": {},
   "outputs": [],
   "source": [
    "output_path_labels = Path(f\"../data/samples/document_{document_id}\")\n",
    "output_path_images = Path(f\"../data/samples/document_{document_id}/images\")"
   ]
  },
  {
   "cell_type": "code",
   "execution_count": 26,
   "id": "82f078a9-f891-434b-8535-53c978e919e7",
   "metadata": {},
   "outputs": [],
   "source": [
    "output_path_labels.mkdir(parents=True, exist_ok=True)\n",
    "output_path_images.mkdir(parents=True, exist_ok=True)"
   ]
  },
  {
   "cell_type": "code",
   "execution_count": 27,
   "id": "d065e7f1-4dfb-43a2-a5f0-5af19b3443fb",
   "metadata": {
    "scrolled": true
   },
   "outputs": [],
   "source": [
    "for sample in samples:\n",
    "    res_image = session.get(\"http://localhost:8000/\" + sample[\"image\"])\n",
    "    \n",
    "    if res_image.status_code == 200:\n",
    "        sample_image = Image.open(BytesIO(res_image.content))\n",
    "    else:\n",
    "        raise ValueError(f\"could not retrieve the image error: {res_image.status_code}\")\n",
    "\n",
    "    sample_image.save(output_path_images / f\"sample_{sample[\"id\"]}.png\")"
   ]
  },
  {
   "cell_type": "code",
   "execution_count": 28,
   "id": "9f58bb13-18b2-48a6-a947-347159abdd91",
   "metadata": {},
   "outputs": [],
   "source": [
    "all_boxes_df.to_csv(output_path_labels / \"labels.csv\", index=False)"
   ]
  },
  {
   "cell_type": "code",
   "execution_count": null,
   "id": "bba11c48-36d0-4e0f-865c-515d5d51c95f",
   "metadata": {},
   "outputs": [],
   "source": []
  },
  {
   "cell_type": "code",
   "execution_count": null,
   "id": "9328741d-7c04-46a8-b76d-be153727a94c",
   "metadata": {},
   "outputs": [],
   "source": []
  },
  {
   "cell_type": "code",
   "execution_count": null,
   "id": "ff45263f-8577-4e91-ad7f-fbde2d880d7f",
   "metadata": {},
   "outputs": [],
   "source": []
  },
  {
   "cell_type": "code",
   "execution_count": null,
   "id": "aed148e1-cce2-420d-9963-1eaf49636707",
   "metadata": {},
   "outputs": [],
   "source": []
  }
 ],
 "metadata": {
  "kernelspec": {
   "display_name": "Python 3 (ipykernel)",
   "language": "python",
   "name": "python3"
  },
  "language_info": {
   "codemirror_mode": {
    "name": "ipython",
    "version": 3
   },
   "file_extension": ".py",
   "mimetype": "text/x-python",
   "name": "python",
   "nbconvert_exporter": "python",
   "pygments_lexer": "ipython3",
   "version": "3.12.6"
  }
 },
 "nbformat": 4,
 "nbformat_minor": 5
}
